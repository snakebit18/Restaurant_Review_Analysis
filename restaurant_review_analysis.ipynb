{
  "cells": [
    {
      "cell_type": "code",
      "execution_count": 4,
      "id": "b71d2208",
      "metadata": {
        "_cell_guid": "b1076dfc-b9ad-4769-8c92-a6c4dae69d19",
        "_uuid": "8f2839f25d086af736a60e9eeb907d3b93b6e0e5",
        "execution": {
          "iopub.execute_input": "2022-07-09T09:13:18.952031Z",
          "iopub.status.busy": "2022-07-09T09:13:18.951102Z",
          "iopub.status.idle": "2022-07-09T09:13:18.971210Z",
          "shell.execute_reply": "2022-07-09T09:13:18.970003Z"
        },
        "papermill": {
          "duration": 0.040392,
          "end_time": "2022-07-09T09:13:18.973943",
          "exception": false,
          "start_time": "2022-07-09T09:13:18.933551",
          "status": "completed"
        },
        "tags": [],
        "id": "b71d2208"
      },
      "outputs": [],
      "source": [
        "import numpy as np \n",
        "import pandas as pd \n"
      ]
    },
    {
      "cell_type": "code",
      "execution_count": 5,
      "id": "90e89c75",
      "metadata": {
        "execution": {
          "iopub.execute_input": "2022-07-09T09:13:19.006310Z",
          "iopub.status.busy": "2022-07-09T09:13:19.005564Z",
          "iopub.status.idle": "2022-07-09T09:13:19.010549Z",
          "shell.execute_reply": "2022-07-09T09:13:19.009683Z"
        },
        "papermill": {
          "duration": 0.024405,
          "end_time": "2022-07-09T09:13:19.012734",
          "exception": false,
          "start_time": "2022-07-09T09:13:18.988329",
          "status": "completed"
        },
        "tags": [],
        "id": "90e89c75"
      },
      "outputs": [],
      "source": [
        "# PROCEES THE DATA AND VISUALIZATION"
      ]
    },
    {
      "cell_type": "markdown",
      "id": "d6e93745",
      "metadata": {
        "papermill": {
          "duration": 0.013817,
          "end_time": "2022-07-09T09:13:19.040277",
          "exception": false,
          "start_time": "2022-07-09T09:13:19.026460",
          "status": "completed"
        },
        "tags": [],
        "id": "d6e93745"
      },
      "source": [
        "**SENTIMENT ANALYSIS**"
      ]
    },
    {
      "cell_type": "code",
      "execution_count": 6,
      "id": "a172a261",
      "metadata": {
        "execution": {
          "iopub.execute_input": "2022-07-09T09:13:19.070233Z",
          "iopub.status.busy": "2022-07-09T09:13:19.069829Z",
          "iopub.status.idle": "2022-07-09T09:13:19.106654Z",
          "shell.execute_reply": "2022-07-09T09:13:19.105226Z"
        },
        "papermill": {
          "duration": 0.054853,
          "end_time": "2022-07-09T09:13:19.109110",
          "exception": false,
          "start_time": "2022-07-09T09:13:19.054257",
          "status": "completed"
        },
        "tags": [],
        "colab": {
          "base_uri": "https://localhost:8080/",
          "height": 424
        },
        "id": "a172a261",
        "outputId": "01085655-7138-4b8d-e28c-e555f273a2d8"
      },
      "outputs": [
        {
          "output_type": "execute_result",
          "data": {
            "text/plain": [
              "                                                Review  Liked\n",
              "0                             Wow... Loved this place.      1\n",
              "1                                   Crust is not good.      0\n",
              "2            Not tasty and the texture was just nasty.      0\n",
              "3    Stopped by during the late May bank holiday of...      1\n",
              "4    The selection on the menu was great and so wer...      1\n",
              "..                                                 ...    ...\n",
              "995  I think food should have flavor and texture an...      0\n",
              "996                           Appetite instantly gone.      0\n",
              "997  Overall I was not impressed and would not go b...      0\n",
              "998  The whole experience was underwhelming, and I ...      0\n",
              "999  Then, as if I hadn't wasted enough of my life ...      0\n",
              "\n",
              "[1000 rows x 2 columns]"
            ],
            "text/html": [
              "\n",
              "  <div id=\"df-c151d1b4-40d2-4186-b840-7eee61fd4fd1\">\n",
              "    <div class=\"colab-df-container\">\n",
              "      <div>\n",
              "<style scoped>\n",
              "    .dataframe tbody tr th:only-of-type {\n",
              "        vertical-align: middle;\n",
              "    }\n",
              "\n",
              "    .dataframe tbody tr th {\n",
              "        vertical-align: top;\n",
              "    }\n",
              "\n",
              "    .dataframe thead th {\n",
              "        text-align: right;\n",
              "    }\n",
              "</style>\n",
              "<table border=\"1\" class=\"dataframe\">\n",
              "  <thead>\n",
              "    <tr style=\"text-align: right;\">\n",
              "      <th></th>\n",
              "      <th>Review</th>\n",
              "      <th>Liked</th>\n",
              "    </tr>\n",
              "  </thead>\n",
              "  <tbody>\n",
              "    <tr>\n",
              "      <th>0</th>\n",
              "      <td>Wow... Loved this place.</td>\n",
              "      <td>1</td>\n",
              "    </tr>\n",
              "    <tr>\n",
              "      <th>1</th>\n",
              "      <td>Crust is not good.</td>\n",
              "      <td>0</td>\n",
              "    </tr>\n",
              "    <tr>\n",
              "      <th>2</th>\n",
              "      <td>Not tasty and the texture was just nasty.</td>\n",
              "      <td>0</td>\n",
              "    </tr>\n",
              "    <tr>\n",
              "      <th>3</th>\n",
              "      <td>Stopped by during the late May bank holiday of...</td>\n",
              "      <td>1</td>\n",
              "    </tr>\n",
              "    <tr>\n",
              "      <th>4</th>\n",
              "      <td>The selection on the menu was great and so wer...</td>\n",
              "      <td>1</td>\n",
              "    </tr>\n",
              "    <tr>\n",
              "      <th>...</th>\n",
              "      <td>...</td>\n",
              "      <td>...</td>\n",
              "    </tr>\n",
              "    <tr>\n",
              "      <th>995</th>\n",
              "      <td>I think food should have flavor and texture an...</td>\n",
              "      <td>0</td>\n",
              "    </tr>\n",
              "    <tr>\n",
              "      <th>996</th>\n",
              "      <td>Appetite instantly gone.</td>\n",
              "      <td>0</td>\n",
              "    </tr>\n",
              "    <tr>\n",
              "      <th>997</th>\n",
              "      <td>Overall I was not impressed and would not go b...</td>\n",
              "      <td>0</td>\n",
              "    </tr>\n",
              "    <tr>\n",
              "      <th>998</th>\n",
              "      <td>The whole experience was underwhelming, and I ...</td>\n",
              "      <td>0</td>\n",
              "    </tr>\n",
              "    <tr>\n",
              "      <th>999</th>\n",
              "      <td>Then, as if I hadn't wasted enough of my life ...</td>\n",
              "      <td>0</td>\n",
              "    </tr>\n",
              "  </tbody>\n",
              "</table>\n",
              "<p>1000 rows × 2 columns</p>\n",
              "</div>\n",
              "      <button class=\"colab-df-convert\" onclick=\"convertToInteractive('df-c151d1b4-40d2-4186-b840-7eee61fd4fd1')\"\n",
              "              title=\"Convert this dataframe to an interactive table.\"\n",
              "              style=\"display:none;\">\n",
              "        \n",
              "  <svg xmlns=\"http://www.w3.org/2000/svg\" height=\"24px\"viewBox=\"0 0 24 24\"\n",
              "       width=\"24px\">\n",
              "    <path d=\"M0 0h24v24H0V0z\" fill=\"none\"/>\n",
              "    <path d=\"M18.56 5.44l.94 2.06.94-2.06 2.06-.94-2.06-.94-.94-2.06-.94 2.06-2.06.94zm-11 1L8.5 8.5l.94-2.06 2.06-.94-2.06-.94L8.5 2.5l-.94 2.06-2.06.94zm10 10l.94 2.06.94-2.06 2.06-.94-2.06-.94-.94-2.06-.94 2.06-2.06.94z\"/><path d=\"M17.41 7.96l-1.37-1.37c-.4-.4-.92-.59-1.43-.59-.52 0-1.04.2-1.43.59L10.3 9.45l-7.72 7.72c-.78.78-.78 2.05 0 2.83L4 21.41c.39.39.9.59 1.41.59.51 0 1.02-.2 1.41-.59l7.78-7.78 2.81-2.81c.8-.78.8-2.07 0-2.86zM5.41 20L4 18.59l7.72-7.72 1.47 1.35L5.41 20z\"/>\n",
              "  </svg>\n",
              "      </button>\n",
              "      \n",
              "  <style>\n",
              "    .colab-df-container {\n",
              "      display:flex;\n",
              "      flex-wrap:wrap;\n",
              "      gap: 12px;\n",
              "    }\n",
              "\n",
              "    .colab-df-convert {\n",
              "      background-color: #E8F0FE;\n",
              "      border: none;\n",
              "      border-radius: 50%;\n",
              "      cursor: pointer;\n",
              "      display: none;\n",
              "      fill: #1967D2;\n",
              "      height: 32px;\n",
              "      padding: 0 0 0 0;\n",
              "      width: 32px;\n",
              "    }\n",
              "\n",
              "    .colab-df-convert:hover {\n",
              "      background-color: #E2EBFA;\n",
              "      box-shadow: 0px 1px 2px rgba(60, 64, 67, 0.3), 0px 1px 3px 1px rgba(60, 64, 67, 0.15);\n",
              "      fill: #174EA6;\n",
              "    }\n",
              "\n",
              "    [theme=dark] .colab-df-convert {\n",
              "      background-color: #3B4455;\n",
              "      fill: #D2E3FC;\n",
              "    }\n",
              "\n",
              "    [theme=dark] .colab-df-convert:hover {\n",
              "      background-color: #434B5C;\n",
              "      box-shadow: 0px 1px 3px 1px rgba(0, 0, 0, 0.15);\n",
              "      filter: drop-shadow(0px 1px 2px rgba(0, 0, 0, 0.3));\n",
              "      fill: #FFFFFF;\n",
              "    }\n",
              "  </style>\n",
              "\n",
              "      <script>\n",
              "        const buttonEl =\n",
              "          document.querySelector('#df-c151d1b4-40d2-4186-b840-7eee61fd4fd1 button.colab-df-convert');\n",
              "        buttonEl.style.display =\n",
              "          google.colab.kernel.accessAllowed ? 'block' : 'none';\n",
              "\n",
              "        async function convertToInteractive(key) {\n",
              "          const element = document.querySelector('#df-c151d1b4-40d2-4186-b840-7eee61fd4fd1');\n",
              "          const dataTable =\n",
              "            await google.colab.kernel.invokeFunction('convertToInteractive',\n",
              "                                                     [key], {});\n",
              "          if (!dataTable) return;\n",
              "\n",
              "          const docLinkHtml = 'Like what you see? Visit the ' +\n",
              "            '<a target=\"_blank\" href=https://colab.research.google.com/notebooks/data_table.ipynb>data table notebook</a>'\n",
              "            + ' to learn more about interactive tables.';\n",
              "          element.innerHTML = '';\n",
              "          dataTable['output_type'] = 'display_data';\n",
              "          await google.colab.output.renderOutput(dataTable, element);\n",
              "          const docLink = document.createElement('div');\n",
              "          docLink.innerHTML = docLinkHtml;\n",
              "          element.appendChild(docLink);\n",
              "        }\n",
              "      </script>\n",
              "    </div>\n",
              "  </div>\n",
              "  "
            ]
          },
          "metadata": {},
          "execution_count": 6
        }
      ],
      "source": [
        "data=pd.read_table('/content/Restaurant_Reviews.tsv')\n",
        "data\n"
      ]
    },
    {
      "cell_type": "code",
      "execution_count": 7,
      "id": "ab07dcb0",
      "metadata": {
        "execution": {
          "iopub.execute_input": "2022-07-09T09:13:19.140031Z",
          "iopub.status.busy": "2022-07-09T09:13:19.138862Z",
          "iopub.status.idle": "2022-07-09T09:13:19.156220Z",
          "shell.execute_reply": "2022-07-09T09:13:19.155016Z"
        },
        "papermill": {
          "duration": 0.035187,
          "end_time": "2022-07-09T09:13:19.158735",
          "exception": false,
          "start_time": "2022-07-09T09:13:19.123548",
          "status": "completed"
        },
        "tags": [],
        "colab": {
          "base_uri": "https://localhost:8080/",
          "height": 424
        },
        "id": "ab07dcb0",
        "outputId": "f6be66d5-a5a2-4dbc-d545-931efcbe432d"
      },
      "outputs": [
        {
          "output_type": "execute_result",
          "data": {
            "text/plain": [
              "                                                Review  Liked\n",
              "0                             Wow... Loved this place.      1\n",
              "1                                   Crust is not good.      0\n",
              "2            Not tasty and the texture was just nasty.      0\n",
              "3    Stopped by during the late May bank holiday of...      1\n",
              "4    The selection on the menu was great and so wer...      1\n",
              "..                                                 ...    ...\n",
              "995  I think food should have flavor and texture an...      0\n",
              "996                           Appetite instantly gone.      0\n",
              "997  Overall I was not impressed and would not go b...      0\n",
              "998  The whole experience was underwhelming, and I ...      0\n",
              "999  Then, as if I hadn't wasted enough of my life ...      0\n",
              "\n",
              "[1000 rows x 2 columns]"
            ],
            "text/html": [
              "\n",
              "  <div id=\"df-d3129fe9-b35b-4d9c-8faf-c4b742a35e69\">\n",
              "    <div class=\"colab-df-container\">\n",
              "      <div>\n",
              "<style scoped>\n",
              "    .dataframe tbody tr th:only-of-type {\n",
              "        vertical-align: middle;\n",
              "    }\n",
              "\n",
              "    .dataframe tbody tr th {\n",
              "        vertical-align: top;\n",
              "    }\n",
              "\n",
              "    .dataframe thead th {\n",
              "        text-align: right;\n",
              "    }\n",
              "</style>\n",
              "<table border=\"1\" class=\"dataframe\">\n",
              "  <thead>\n",
              "    <tr style=\"text-align: right;\">\n",
              "      <th></th>\n",
              "      <th>Review</th>\n",
              "      <th>Liked</th>\n",
              "    </tr>\n",
              "  </thead>\n",
              "  <tbody>\n",
              "    <tr>\n",
              "      <th>0</th>\n",
              "      <td>Wow... Loved this place.</td>\n",
              "      <td>1</td>\n",
              "    </tr>\n",
              "    <tr>\n",
              "      <th>1</th>\n",
              "      <td>Crust is not good.</td>\n",
              "      <td>0</td>\n",
              "    </tr>\n",
              "    <tr>\n",
              "      <th>2</th>\n",
              "      <td>Not tasty and the texture was just nasty.</td>\n",
              "      <td>0</td>\n",
              "    </tr>\n",
              "    <tr>\n",
              "      <th>3</th>\n",
              "      <td>Stopped by during the late May bank holiday of...</td>\n",
              "      <td>1</td>\n",
              "    </tr>\n",
              "    <tr>\n",
              "      <th>4</th>\n",
              "      <td>The selection on the menu was great and so wer...</td>\n",
              "      <td>1</td>\n",
              "    </tr>\n",
              "    <tr>\n",
              "      <th>...</th>\n",
              "      <td>...</td>\n",
              "      <td>...</td>\n",
              "    </tr>\n",
              "    <tr>\n",
              "      <th>995</th>\n",
              "      <td>I think food should have flavor and texture an...</td>\n",
              "      <td>0</td>\n",
              "    </tr>\n",
              "    <tr>\n",
              "      <th>996</th>\n",
              "      <td>Appetite instantly gone.</td>\n",
              "      <td>0</td>\n",
              "    </tr>\n",
              "    <tr>\n",
              "      <th>997</th>\n",
              "      <td>Overall I was not impressed and would not go b...</td>\n",
              "      <td>0</td>\n",
              "    </tr>\n",
              "    <tr>\n",
              "      <th>998</th>\n",
              "      <td>The whole experience was underwhelming, and I ...</td>\n",
              "      <td>0</td>\n",
              "    </tr>\n",
              "    <tr>\n",
              "      <th>999</th>\n",
              "      <td>Then, as if I hadn't wasted enough of my life ...</td>\n",
              "      <td>0</td>\n",
              "    </tr>\n",
              "  </tbody>\n",
              "</table>\n",
              "<p>1000 rows × 2 columns</p>\n",
              "</div>\n",
              "      <button class=\"colab-df-convert\" onclick=\"convertToInteractive('df-d3129fe9-b35b-4d9c-8faf-c4b742a35e69')\"\n",
              "              title=\"Convert this dataframe to an interactive table.\"\n",
              "              style=\"display:none;\">\n",
              "        \n",
              "  <svg xmlns=\"http://www.w3.org/2000/svg\" height=\"24px\"viewBox=\"0 0 24 24\"\n",
              "       width=\"24px\">\n",
              "    <path d=\"M0 0h24v24H0V0z\" fill=\"none\"/>\n",
              "    <path d=\"M18.56 5.44l.94 2.06.94-2.06 2.06-.94-2.06-.94-.94-2.06-.94 2.06-2.06.94zm-11 1L8.5 8.5l.94-2.06 2.06-.94-2.06-.94L8.5 2.5l-.94 2.06-2.06.94zm10 10l.94 2.06.94-2.06 2.06-.94-2.06-.94-.94-2.06-.94 2.06-2.06.94z\"/><path d=\"M17.41 7.96l-1.37-1.37c-.4-.4-.92-.59-1.43-.59-.52 0-1.04.2-1.43.59L10.3 9.45l-7.72 7.72c-.78.78-.78 2.05 0 2.83L4 21.41c.39.39.9.59 1.41.59.51 0 1.02-.2 1.41-.59l7.78-7.78 2.81-2.81c.8-.78.8-2.07 0-2.86zM5.41 20L4 18.59l7.72-7.72 1.47 1.35L5.41 20z\"/>\n",
              "  </svg>\n",
              "      </button>\n",
              "      \n",
              "  <style>\n",
              "    .colab-df-container {\n",
              "      display:flex;\n",
              "      flex-wrap:wrap;\n",
              "      gap: 12px;\n",
              "    }\n",
              "\n",
              "    .colab-df-convert {\n",
              "      background-color: #E8F0FE;\n",
              "      border: none;\n",
              "      border-radius: 50%;\n",
              "      cursor: pointer;\n",
              "      display: none;\n",
              "      fill: #1967D2;\n",
              "      height: 32px;\n",
              "      padding: 0 0 0 0;\n",
              "      width: 32px;\n",
              "    }\n",
              "\n",
              "    .colab-df-convert:hover {\n",
              "      background-color: #E2EBFA;\n",
              "      box-shadow: 0px 1px 2px rgba(60, 64, 67, 0.3), 0px 1px 3px 1px rgba(60, 64, 67, 0.15);\n",
              "      fill: #174EA6;\n",
              "    }\n",
              "\n",
              "    [theme=dark] .colab-df-convert {\n",
              "      background-color: #3B4455;\n",
              "      fill: #D2E3FC;\n",
              "    }\n",
              "\n",
              "    [theme=dark] .colab-df-convert:hover {\n",
              "      background-color: #434B5C;\n",
              "      box-shadow: 0px 1px 3px 1px rgba(0, 0, 0, 0.15);\n",
              "      filter: drop-shadow(0px 1px 2px rgba(0, 0, 0, 0.3));\n",
              "      fill: #FFFFFF;\n",
              "    }\n",
              "  </style>\n",
              "\n",
              "      <script>\n",
              "        const buttonEl =\n",
              "          document.querySelector('#df-d3129fe9-b35b-4d9c-8faf-c4b742a35e69 button.colab-df-convert');\n",
              "        buttonEl.style.display =\n",
              "          google.colab.kernel.accessAllowed ? 'block' : 'none';\n",
              "\n",
              "        async function convertToInteractive(key) {\n",
              "          const element = document.querySelector('#df-d3129fe9-b35b-4d9c-8faf-c4b742a35e69');\n",
              "          const dataTable =\n",
              "            await google.colab.kernel.invokeFunction('convertToInteractive',\n",
              "                                                     [key], {});\n",
              "          if (!dataTable) return;\n",
              "\n",
              "          const docLinkHtml = 'Like what you see? Visit the ' +\n",
              "            '<a target=\"_blank\" href=https://colab.research.google.com/notebooks/data_table.ipynb>data table notebook</a>'\n",
              "            + ' to learn more about interactive tables.';\n",
              "          element.innerHTML = '';\n",
              "          dataTable['output_type'] = 'display_data';\n",
              "          await google.colab.output.renderOutput(dataTable, element);\n",
              "          const docLink = document.createElement('div');\n",
              "          docLink.innerHTML = docLinkHtml;\n",
              "          element.appendChild(docLink);\n",
              "        }\n",
              "      </script>\n",
              "    </div>\n",
              "  </div>\n",
              "  "
            ]
          },
          "metadata": {},
          "execution_count": 7
        }
      ],
      "source": [
        "data = pd.read_csv('/content/Restaurant_Reviews.tsv',sep='\\t')\n",
        "data"
      ]
    },
    {
      "cell_type": "code",
      "execution_count": 8,
      "id": "2a50294a",
      "metadata": {
        "execution": {
          "iopub.execute_input": "2022-07-09T09:13:19.188994Z",
          "iopub.status.busy": "2022-07-09T09:13:19.188582Z",
          "iopub.status.idle": "2022-07-09T09:13:20.518989Z",
          "shell.execute_reply": "2022-07-09T09:13:20.517577Z"
        },
        "papermill": {
          "duration": 1.349189,
          "end_time": "2022-07-09T09:13:20.522153",
          "exception": false,
          "start_time": "2022-07-09T09:13:19.172964",
          "status": "completed"
        },
        "tags": [],
        "id": "2a50294a"
      },
      "outputs": [],
      "source": [
        "import matplotlib.pyplot as plt\n",
        "import seaborn as sns"
      ]
    },
    {
      "cell_type": "code",
      "execution_count": 9,
      "id": "71c04a5f",
      "metadata": {
        "execution": {
          "iopub.execute_input": "2022-07-09T09:13:20.554814Z",
          "iopub.status.busy": "2022-07-09T09:13:20.554415Z",
          "iopub.status.idle": "2022-07-09T09:13:20.585503Z",
          "shell.execute_reply": "2022-07-09T09:13:20.584241Z"
        },
        "papermill": {
          "duration": 0.051482,
          "end_time": "2022-07-09T09:13:20.588544",
          "exception": false,
          "start_time": "2022-07-09T09:13:20.537062",
          "status": "completed"
        },
        "tags": [],
        "colab": {
          "base_uri": "https://localhost:8080/",
          "height": 300
        },
        "id": "71c04a5f",
        "outputId": "93ccfb6c-c28a-464e-9458-e86b64da22ae"
      },
      "outputs": [
        {
          "output_type": "execute_result",
          "data": {
            "text/plain": [
              "            Liked\n",
              "count  1000.00000\n",
              "mean      0.50000\n",
              "std       0.50025\n",
              "min       0.00000\n",
              "25%       0.00000\n",
              "50%       0.50000\n",
              "75%       1.00000\n",
              "max       1.00000"
            ],
            "text/html": [
              "\n",
              "  <div id=\"df-4de4de8a-432a-4b0c-bce2-e22c563d8855\">\n",
              "    <div class=\"colab-df-container\">\n",
              "      <div>\n",
              "<style scoped>\n",
              "    .dataframe tbody tr th:only-of-type {\n",
              "        vertical-align: middle;\n",
              "    }\n",
              "\n",
              "    .dataframe tbody tr th {\n",
              "        vertical-align: top;\n",
              "    }\n",
              "\n",
              "    .dataframe thead th {\n",
              "        text-align: right;\n",
              "    }\n",
              "</style>\n",
              "<table border=\"1\" class=\"dataframe\">\n",
              "  <thead>\n",
              "    <tr style=\"text-align: right;\">\n",
              "      <th></th>\n",
              "      <th>Liked</th>\n",
              "    </tr>\n",
              "  </thead>\n",
              "  <tbody>\n",
              "    <tr>\n",
              "      <th>count</th>\n",
              "      <td>1000.00000</td>\n",
              "    </tr>\n",
              "    <tr>\n",
              "      <th>mean</th>\n",
              "      <td>0.50000</td>\n",
              "    </tr>\n",
              "    <tr>\n",
              "      <th>std</th>\n",
              "      <td>0.50025</td>\n",
              "    </tr>\n",
              "    <tr>\n",
              "      <th>min</th>\n",
              "      <td>0.00000</td>\n",
              "    </tr>\n",
              "    <tr>\n",
              "      <th>25%</th>\n",
              "      <td>0.00000</td>\n",
              "    </tr>\n",
              "    <tr>\n",
              "      <th>50%</th>\n",
              "      <td>0.50000</td>\n",
              "    </tr>\n",
              "    <tr>\n",
              "      <th>75%</th>\n",
              "      <td>1.00000</td>\n",
              "    </tr>\n",
              "    <tr>\n",
              "      <th>max</th>\n",
              "      <td>1.00000</td>\n",
              "    </tr>\n",
              "  </tbody>\n",
              "</table>\n",
              "</div>\n",
              "      <button class=\"colab-df-convert\" onclick=\"convertToInteractive('df-4de4de8a-432a-4b0c-bce2-e22c563d8855')\"\n",
              "              title=\"Convert this dataframe to an interactive table.\"\n",
              "              style=\"display:none;\">\n",
              "        \n",
              "  <svg xmlns=\"http://www.w3.org/2000/svg\" height=\"24px\"viewBox=\"0 0 24 24\"\n",
              "       width=\"24px\">\n",
              "    <path d=\"M0 0h24v24H0V0z\" fill=\"none\"/>\n",
              "    <path d=\"M18.56 5.44l.94 2.06.94-2.06 2.06-.94-2.06-.94-.94-2.06-.94 2.06-2.06.94zm-11 1L8.5 8.5l.94-2.06 2.06-.94-2.06-.94L8.5 2.5l-.94 2.06-2.06.94zm10 10l.94 2.06.94-2.06 2.06-.94-2.06-.94-.94-2.06-.94 2.06-2.06.94z\"/><path d=\"M17.41 7.96l-1.37-1.37c-.4-.4-.92-.59-1.43-.59-.52 0-1.04.2-1.43.59L10.3 9.45l-7.72 7.72c-.78.78-.78 2.05 0 2.83L4 21.41c.39.39.9.59 1.41.59.51 0 1.02-.2 1.41-.59l7.78-7.78 2.81-2.81c.8-.78.8-2.07 0-2.86zM5.41 20L4 18.59l7.72-7.72 1.47 1.35L5.41 20z\"/>\n",
              "  </svg>\n",
              "      </button>\n",
              "      \n",
              "  <style>\n",
              "    .colab-df-container {\n",
              "      display:flex;\n",
              "      flex-wrap:wrap;\n",
              "      gap: 12px;\n",
              "    }\n",
              "\n",
              "    .colab-df-convert {\n",
              "      background-color: #E8F0FE;\n",
              "      border: none;\n",
              "      border-radius: 50%;\n",
              "      cursor: pointer;\n",
              "      display: none;\n",
              "      fill: #1967D2;\n",
              "      height: 32px;\n",
              "      padding: 0 0 0 0;\n",
              "      width: 32px;\n",
              "    }\n",
              "\n",
              "    .colab-df-convert:hover {\n",
              "      background-color: #E2EBFA;\n",
              "      box-shadow: 0px 1px 2px rgba(60, 64, 67, 0.3), 0px 1px 3px 1px rgba(60, 64, 67, 0.15);\n",
              "      fill: #174EA6;\n",
              "    }\n",
              "\n",
              "    [theme=dark] .colab-df-convert {\n",
              "      background-color: #3B4455;\n",
              "      fill: #D2E3FC;\n",
              "    }\n",
              "\n",
              "    [theme=dark] .colab-df-convert:hover {\n",
              "      background-color: #434B5C;\n",
              "      box-shadow: 0px 1px 3px 1px rgba(0, 0, 0, 0.15);\n",
              "      filter: drop-shadow(0px 1px 2px rgba(0, 0, 0, 0.3));\n",
              "      fill: #FFFFFF;\n",
              "    }\n",
              "  </style>\n",
              "\n",
              "      <script>\n",
              "        const buttonEl =\n",
              "          document.querySelector('#df-4de4de8a-432a-4b0c-bce2-e22c563d8855 button.colab-df-convert');\n",
              "        buttonEl.style.display =\n",
              "          google.colab.kernel.accessAllowed ? 'block' : 'none';\n",
              "\n",
              "        async function convertToInteractive(key) {\n",
              "          const element = document.querySelector('#df-4de4de8a-432a-4b0c-bce2-e22c563d8855');\n",
              "          const dataTable =\n",
              "            await google.colab.kernel.invokeFunction('convertToInteractive',\n",
              "                                                     [key], {});\n",
              "          if (!dataTable) return;\n",
              "\n",
              "          const docLinkHtml = 'Like what you see? Visit the ' +\n",
              "            '<a target=\"_blank\" href=https://colab.research.google.com/notebooks/data_table.ipynb>data table notebook</a>'\n",
              "            + ' to learn more about interactive tables.';\n",
              "          element.innerHTML = '';\n",
              "          dataTable['output_type'] = 'display_data';\n",
              "          await google.colab.output.renderOutput(dataTable, element);\n",
              "          const docLink = document.createElement('div');\n",
              "          docLink.innerHTML = docLinkHtml;\n",
              "          element.appendChild(docLink);\n",
              "        }\n",
              "      </script>\n",
              "    </div>\n",
              "  </div>\n",
              "  "
            ]
          },
          "metadata": {},
          "execution_count": 9
        }
      ],
      "source": [
        "data.describe()"
      ]
    },
    {
      "cell_type": "code",
      "execution_count": 10,
      "id": "e40bb4cf",
      "metadata": {
        "execution": {
          "iopub.execute_input": "2022-07-09T09:13:20.620295Z",
          "iopub.status.busy": "2022-07-09T09:13:20.619259Z",
          "iopub.status.idle": "2022-07-09T09:13:20.627203Z",
          "shell.execute_reply": "2022-07-09T09:13:20.625821Z"
        },
        "papermill": {
          "duration": 0.026331,
          "end_time": "2022-07-09T09:13:20.629553",
          "exception": false,
          "start_time": "2022-07-09T09:13:20.603222",
          "status": "completed"
        },
        "tags": [],
        "colab": {
          "base_uri": "https://localhost:8080/"
        },
        "id": "e40bb4cf",
        "outputId": "41e298da-3103-4a79-d6de-158e3b506b2b"
      },
      "outputs": [
        {
          "output_type": "execute_result",
          "data": {
            "text/plain": [
              "Index(['Review', 'Liked'], dtype='object')"
            ]
          },
          "metadata": {},
          "execution_count": 10
        }
      ],
      "source": [
        "data.columns"
      ]
    },
    {
      "cell_type": "code",
      "execution_count": 11,
      "id": "6a0aff0b",
      "metadata": {
        "execution": {
          "iopub.execute_input": "2022-07-09T09:13:20.662387Z",
          "iopub.status.busy": "2022-07-09T09:13:20.661278Z",
          "iopub.status.idle": "2022-07-09T09:13:20.667799Z",
          "shell.execute_reply": "2022-07-09T09:13:20.666660Z"
        },
        "papermill": {
          "duration": 0.024867,
          "end_time": "2022-07-09T09:13:20.670164",
          "exception": false,
          "start_time": "2022-07-09T09:13:20.645297",
          "status": "completed"
        },
        "tags": [],
        "colab": {
          "base_uri": "https://localhost:8080/"
        },
        "id": "6a0aff0b",
        "outputId": "fda0b1a2-053e-41c6-d818-fbcbba11c8bc"
      },
      "outputs": [
        {
          "output_type": "execute_result",
          "data": {
            "text/plain": [
              "2"
            ]
          },
          "metadata": {},
          "execution_count": 11
        }
      ],
      "source": [
        "data['Liked'].nunique()"
      ]
    },
    {
      "cell_type": "code",
      "execution_count": 12,
      "id": "742912a0",
      "metadata": {
        "execution": {
          "iopub.execute_input": "2022-07-09T09:13:20.701860Z",
          "iopub.status.busy": "2022-07-09T09:13:20.701486Z",
          "iopub.status.idle": "2022-07-09T09:13:20.707537Z",
          "shell.execute_reply": "2022-07-09T09:13:20.706148Z"
        },
        "papermill": {
          "duration": 0.024773,
          "end_time": "2022-07-09T09:13:20.709803",
          "exception": false,
          "start_time": "2022-07-09T09:13:20.685030",
          "status": "completed"
        },
        "tags": [],
        "colab": {
          "base_uri": "https://localhost:8080/"
        },
        "id": "742912a0",
        "outputId": "c6bf74a2-e35a-4430-b70f-78bb909e9747"
      },
      "outputs": [
        {
          "output_type": "stream",
          "name": "stdout",
          "text": [
            "[1 0]\n"
          ]
        }
      ],
      "source": [
        "print(data['Liked'].unique())"
      ]
    },
    {
      "cell_type": "code",
      "execution_count": 13,
      "id": "cf322fe1",
      "metadata": {
        "execution": {
          "iopub.execute_input": "2022-07-09T09:13:20.743714Z",
          "iopub.status.busy": "2022-07-09T09:13:20.742108Z",
          "iopub.status.idle": "2022-07-09T09:13:20.751405Z",
          "shell.execute_reply": "2022-07-09T09:13:20.750348Z"
        },
        "papermill": {
          "duration": 0.02803,
          "end_time": "2022-07-09T09:13:20.753513",
          "exception": false,
          "start_time": "2022-07-09T09:13:20.725483",
          "status": "completed"
        },
        "tags": [],
        "colab": {
          "base_uri": "https://localhost:8080/"
        },
        "id": "cf322fe1",
        "outputId": "b3da472c-9f49-41df-ccf0-6e3bd71daa5e"
      },
      "outputs": [
        {
          "output_type": "execute_result",
          "data": {
            "text/plain": [
              "1    500\n",
              "0    500\n",
              "Name: Liked, dtype: int64"
            ]
          },
          "metadata": {},
          "execution_count": 13
        }
      ],
      "source": [
        "data['Liked'].value_counts()"
      ]
    },
    {
      "cell_type": "code",
      "execution_count": 14,
      "id": "5d34f600",
      "metadata": {
        "execution": {
          "iopub.execute_input": "2022-07-09T09:13:20.817989Z",
          "iopub.status.busy": "2022-07-09T09:13:20.816895Z",
          "iopub.status.idle": "2022-07-09T09:13:20.826816Z",
          "shell.execute_reply": "2022-07-09T09:13:20.825724Z"
        },
        "papermill": {
          "duration": 0.028864,
          "end_time": "2022-07-09T09:13:20.828948",
          "exception": false,
          "start_time": "2022-07-09T09:13:20.800084",
          "status": "completed"
        },
        "tags": [],
        "colab": {
          "base_uri": "https://localhost:8080/"
        },
        "id": "5d34f600",
        "outputId": "7df0a1c8-0a3f-4712-8318-42af66950d48"
      },
      "outputs": [
        {
          "output_type": "execute_result",
          "data": {
            "text/plain": [
              "<bound method NDFrame.head of                                                 Review  Liked\n",
              "0                             Wow... Loved this place.      1\n",
              "1                                   Crust is not good.      0\n",
              "2            Not tasty and the texture was just nasty.      0\n",
              "3    Stopped by during the late May bank holiday of...      1\n",
              "4    The selection on the menu was great and so wer...      1\n",
              "..                                                 ...    ...\n",
              "995  I think food should have flavor and texture an...      0\n",
              "996                           Appetite instantly gone.      0\n",
              "997  Overall I was not impressed and would not go b...      0\n",
              "998  The whole experience was underwhelming, and I ...      0\n",
              "999  Then, as if I hadn't wasted enough of my life ...      0\n",
              "\n",
              "[1000 rows x 2 columns]>"
            ]
          },
          "metadata": {},
          "execution_count": 14
        }
      ],
      "source": [
        "data.head"
      ]
    },
    {
      "cell_type": "code",
      "execution_count": 15,
      "id": "1abda145",
      "metadata": {
        "execution": {
          "iopub.execute_input": "2022-07-09T09:13:20.863890Z",
          "iopub.status.busy": "2022-07-09T09:13:20.862796Z",
          "iopub.status.idle": "2022-07-09T09:13:21.029503Z",
          "shell.execute_reply": "2022-07-09T09:13:21.028513Z"
        },
        "papermill": {
          "duration": 0.187494,
          "end_time": "2022-07-09T09:13:21.031789",
          "exception": false,
          "start_time": "2022-07-09T09:13:20.844295",
          "status": "completed"
        },
        "tags": [],
        "colab": {
          "base_uri": "https://localhost:8080/",
          "height": 334
        },
        "id": "1abda145",
        "outputId": "c10debbd-48c0-4ce3-bc72-69612b578abb"
      },
      "outputs": [
        {
          "output_type": "display_data",
          "data": {
            "text/plain": [
              "<Figure size 576x360 with 1 Axes>"
            ],
            "image/png": "[encoded data removed]"
          },
          "metadata": {
            "needs_background": "light"
          }
        }
      ],
      "source": [
        "plt.figure(figsize=(8,5))\n",
        "sns.countplot(x=data.Liked);"
      ]
    },
    {
      "cell_type": "markdown",
      "id": "908a3e41",
      "metadata": {
        "papermill": {
          "duration": 0.015061,
          "end_time": "2022-07-09T09:13:21.062336",
          "exception": false,
          "start_time": "2022-07-09T09:13:21.047275",
          "status": "completed"
        },
        "tags": [],
        "id": "908a3e41"
      },
      "source": [
        "# SVC MODEL AND PIPELINE AND ML ALOGRITHM TO PREDICT"
      ]
    },
    {
      "cell_type": "code",
      "execution_count": 16,
      "id": "78acfd41",
      "metadata": {
        "execution": {
          "iopub.execute_input": "2022-07-09T09:13:21.191060Z",
          "iopub.status.busy": "2022-07-09T09:13:21.190336Z",
          "iopub.status.idle": "2022-07-09T09:13:21.197030Z",
          "shell.execute_reply": "2022-07-09T09:13:21.196113Z"
        },
        "papermill": {
          "duration": 0.026269,
          "end_time": "2022-07-09T09:13:21.199592",
          "exception": false,
          "start_time": "2022-07-09T09:13:21.173323",
          "status": "completed"
        },
        "tags": [],
        "id": "78acfd41"
      },
      "outputs": [],
      "source": [
        "x=data['Review'].values\n",
        "y=data['Liked'].values"
      ]
    },
    {
      "cell_type": "code",
      "execution_count": 17,
      "id": "5e36f52f",
      "metadata": {
        "execution": {
          "iopub.execute_input": "2022-07-09T09:13:21.234661Z",
          "iopub.status.busy": "2022-07-09T09:13:21.233947Z",
          "iopub.status.idle": "2022-07-09T09:13:21.501144Z",
          "shell.execute_reply": "2022-07-09T09:13:21.499722Z"
        },
        "papermill": {
          "duration": 0.288639,
          "end_time": "2022-07-09T09:13:21.504289",
          "exception": false,
          "start_time": "2022-07-09T09:13:21.215650",
          "status": "completed"
        },
        "tags": [],
        "id": "5e36f52f"
      },
      "outputs": [],
      "source": [
        "from sklearn.model_selection import train_test_split\n",
        "x_train,x_test,y_train,y_test=train_test_split(x,y,random_state=44)"
      ]
    },
    {
      "cell_type": "code",
      "execution_count": 18,
      "id": "27acd95e",
      "metadata": {
        "execution": {
          "iopub.execute_input": "2022-07-09T09:13:21.658013Z",
          "iopub.status.busy": "2022-07-09T09:13:21.657317Z",
          "iopub.status.idle": "2022-07-09T09:13:21.662989Z",
          "shell.execute_reply": "2022-07-09T09:13:21.662228Z"
        },
        "papermill": {
          "duration": 0.026251,
          "end_time": "2022-07-09T09:13:21.664824",
          "exception": false,
          "start_time": "2022-07-09T09:13:21.638573",
          "status": "completed"
        },
        "tags": [],
        "colab": {
          "base_uri": "https://localhost:8080/"
        },
        "id": "27acd95e",
        "outputId": "2f1c1a11-c85e-43db-aa05-67a4e657d6aa"
      },
      "outputs": [
        {
          "output_type": "execute_result",
          "data": {
            "text/plain": [
              "(750,)"
            ]
          },
          "metadata": {},
          "execution_count": 18
        }
      ],
      "source": [
        "x_train.shape"
      ]
    },
    {
      "cell_type": "code",
      "execution_count": 19,
      "id": "91e8052c",
      "metadata": {
        "execution": {
          "iopub.execute_input": "2022-07-09T09:13:21.700714Z",
          "iopub.status.busy": "2022-07-09T09:13:21.700303Z",
          "iopub.status.idle": "2022-07-09T09:13:21.706371Z",
          "shell.execute_reply": "2022-07-09T09:13:21.705567Z"
        },
        "papermill": {
          "duration": 0.026036,
          "end_time": "2022-07-09T09:13:21.708272",
          "exception": false,
          "start_time": "2022-07-09T09:13:21.682236",
          "status": "completed"
        },
        "tags": [],
        "colab": {
          "base_uri": "https://localhost:8080/"
        },
        "id": "91e8052c",
        "outputId": "a51eb117-2b95-4a19-d676-e400ea6cb733"
      },
      "outputs": [
        {
          "output_type": "execute_result",
          "data": {
            "text/plain": [
              "(250,)"
            ]
          },
          "metadata": {},
          "execution_count": 19
        }
      ],
      "source": [
        "x_test.shape"
      ]
    },
    {
      "cell_type": "code",
      "execution_count": 20,
      "id": "3d21e0dc",
      "metadata": {
        "execution": {
          "iopub.execute_input": "2022-07-09T09:13:21.744575Z",
          "iopub.status.busy": "2022-07-09T09:13:21.743543Z",
          "iopub.status.idle": "2022-07-09T09:13:21.749898Z",
          "shell.execute_reply": "2022-07-09T09:13:21.749184Z"
        },
        "papermill": {
          "duration": 0.026626,
          "end_time": "2022-07-09T09:13:21.751867",
          "exception": false,
          "start_time": "2022-07-09T09:13:21.725241",
          "status": "completed"
        },
        "tags": [],
        "colab": {
          "base_uri": "https://localhost:8080/"
        },
        "id": "3d21e0dc",
        "outputId": "02e09992-f747-4b52-e4d6-fc2164002d40"
      },
      "outputs": [
        {
          "output_type": "execute_result",
          "data": {
            "text/plain": [
              "(750,)"
            ]
          },
          "metadata": {},
          "execution_count": 20
        }
      ],
      "source": [
        "y_train.shape"
      ]
    },
    {
      "cell_type": "code",
      "execution_count": 21,
      "id": "d3426f1e",
      "metadata": {
        "execution": {
          "iopub.execute_input": "2022-07-09T09:13:21.789355Z",
          "iopub.status.busy": "2022-07-09T09:13:21.788589Z",
          "iopub.status.idle": "2022-07-09T09:13:21.795488Z",
          "shell.execute_reply": "2022-07-09T09:13:21.794399Z"
        },
        "papermill": {
          "duration": 0.027849,
          "end_time": "2022-07-09T09:13:21.798004",
          "exception": false,
          "start_time": "2022-07-09T09:13:21.770155",
          "status": "completed"
        },
        "tags": [],
        "colab": {
          "base_uri": "https://localhost:8080/"
        },
        "id": "d3426f1e",
        "outputId": "b7c11972-6d3f-4c3e-822a-1f5f1ab6d4e8"
      },
      "outputs": [
        {
          "output_type": "execute_result",
          "data": {
            "text/plain": [
              "(250,)"
            ]
          },
          "metadata": {},
          "execution_count": 21
        }
      ],
      "source": [
        "y_test.shape"
      ]
    },
    {
      "cell_type": "code",
      "execution_count": 22,
      "id": "774d8c10",
      "metadata": {
        "execution": {
          "iopub.execute_input": "2022-07-09T09:13:21.835604Z",
          "iopub.status.busy": "2022-07-09T09:13:21.834796Z",
          "iopub.status.idle": "2022-07-09T09:13:21.871793Z",
          "shell.execute_reply": "2022-07-09T09:13:21.870568Z"
        },
        "papermill": {
          "duration": 0.058668,
          "end_time": "2022-07-09T09:13:21.874489",
          "exception": false,
          "start_time": "2022-07-09T09:13:21.815821",
          "status": "completed"
        },
        "tags": [],
        "id": "774d8c10"
      },
      "outputs": [],
      "source": [
        "from sklearn.feature_extraction.text import CountVectorizer\n",
        "vect=CountVectorizer(stop_words='english')\n",
        "x_train_vect=vect.fit_transform(x_train)\n",
        "x_test_vect=vect.transform(x_test)"
      ]
    },
    {
      "cell_type": "markdown",
      "source": [
        "**Support Vector Model**"
      ],
      "metadata": {
        "id": "gNNN1XS_5VrQ"
      },
      "id": "gNNN1XS_5VrQ"
    },
    {
      "cell_type": "code",
      "execution_count": 23,
      "id": "07e939b5",
      "metadata": {
        "execution": {
          "iopub.execute_input": "2022-07-09T09:13:21.912861Z",
          "iopub.status.busy": "2022-07-09T09:13:21.912483Z",
          "iopub.status.idle": "2022-07-09T09:13:22.010529Z",
          "shell.execute_reply": "2022-07-09T09:13:22.009346Z"
        },
        "papermill": {
          "duration": 0.120298,
          "end_time": "2022-07-09T09:13:22.013162",
          "exception": false,
          "start_time": "2022-07-09T09:13:21.892864",
          "status": "completed"
        },
        "tags": [],
        "id": "07e939b5"
      },
      "outputs": [],
      "source": [
        "from sklearn.svm import SVC\n",
        "model=SVC()"
      ]
    },
    {
      "cell_type": "code",
      "execution_count": 24,
      "id": "301ff913",
      "metadata": {
        "execution": {
          "iopub.execute_input": "2022-07-09T09:13:22.050652Z",
          "iopub.status.busy": "2022-07-09T09:13:22.049529Z",
          "iopub.status.idle": "2022-07-09T09:13:22.113171Z",
          "shell.execute_reply": "2022-07-09T09:13:22.111953Z"
        },
        "papermill": {
          "duration": 0.084872,
          "end_time": "2022-07-09T09:13:22.115481",
          "exception": false,
          "start_time": "2022-07-09T09:13:22.030609",
          "status": "completed"
        },
        "tags": [],
        "colab": {
          "base_uri": "https://localhost:8080/"
        },
        "id": "301ff913",
        "outputId": "3507623d-7534-420c-e39e-7e6086210718"
      },
      "outputs": [
        {
          "output_type": "execute_result",
          "data": {
            "text/plain": [
              "SVC()"
            ]
          },
          "metadata": {},
          "execution_count": 24
        }
      ],
      "source": [
        "model.fit(x_train_vect,y_train)"
      ]
    },
    {
      "cell_type": "markdown",
      "id": "7ec11d07",
      "metadata": {
        "papermill": {
          "duration": 0.0175,
          "end_time": "2022-07-09T09:13:22.150580",
          "exception": false,
          "start_time": "2022-07-09T09:13:22.133080",
          "status": "completed"
        },
        "tags": [],
        "id": "7ec11d07"
      },
      "source": [
        "**Evaluate the SVC (Model)**"
      ]
    },
    {
      "cell_type": "code",
      "execution_count": 25,
      "id": "43191d6b",
      "metadata": {
        "execution": {
          "iopub.execute_input": "2022-07-09T09:13:22.189904Z",
          "iopub.status.busy": "2022-07-09T09:13:22.188858Z",
          "iopub.status.idle": "2022-07-09T09:13:22.206522Z",
          "shell.execute_reply": "2022-07-09T09:13:22.205165Z"
        },
        "papermill": {
          "duration": 0.040675,
          "end_time": "2022-07-09T09:13:22.209358",
          "exception": false,
          "start_time": "2022-07-09T09:13:22.168683",
          "status": "completed"
        },
        "tags": [],
        "id": "43191d6b"
      },
      "outputs": [],
      "source": [
        "y_pred=model.predict(x_test_vect)"
      ]
    },
    {
      "cell_type": "code",
      "execution_count": 26,
      "id": "c9bfecf7",
      "metadata": {
        "execution": {
          "iopub.execute_input": "2022-07-09T09:13:22.250712Z",
          "iopub.status.busy": "2022-07-09T09:13:22.249944Z",
          "iopub.status.idle": "2022-07-09T09:13:22.259433Z",
          "shell.execute_reply": "2022-07-09T09:13:22.257998Z"
        },
        "papermill": {
          "duration": 0.032105,
          "end_time": "2022-07-09T09:13:22.261877",
          "exception": false,
          "start_time": "2022-07-09T09:13:22.229772",
          "status": "completed"
        },
        "tags": [],
        "colab": {
          "base_uri": "https://localhost:8080/"
        },
        "id": "c9bfecf7",
        "outputId": "bcc3928f-1048-4f95-d712-ec4184cd8ae6"
      },
      "outputs": [
        {
          "output_type": "execute_result",
          "data": {
            "text/plain": [
              "0.748"
            ]
          },
          "metadata": {},
          "execution_count": 26
        }
      ],
      "source": [
        "# Accuracy,\n",
        "from sklearn.metrics import accuracy_score\n",
        "accuracy_score(y_pred,y_test)"
      ]
    },
    {
      "cell_type": "code",
      "execution_count": 27,
      "id": "f7b3e7ca",
      "metadata": {
        "execution": {
          "iopub.execute_input": "2022-07-09T09:13:22.302814Z",
          "iopub.status.busy": "2022-07-09T09:13:22.302174Z",
          "iopub.status.idle": "2022-07-09T09:13:22.313558Z",
          "shell.execute_reply": "2022-07-09T09:13:22.312192Z"
        },
        "papermill": {
          "duration": 0.034437,
          "end_time": "2022-07-09T09:13:22.315948",
          "exception": false,
          "start_time": "2022-07-09T09:13:22.281511",
          "status": "completed"
        },
        "tags": [],
        "colab": {
          "base_uri": "https://localhost:8080/"
        },
        "id": "f7b3e7ca",
        "outputId": "769fd69c-5945-4dfe-9657-e7d3633f5848"
      },
      "outputs": [
        {
          "output_type": "stream",
          "name": "stdout",
          "text": [
            "---- Scores ----\n",
            "Accuracy score is: 74.8%\n",
            "Precision score is: 0.84\n",
            "Recall score is: 0.6\n"
          ]
        }
      ],
      "source": [
        "from sklearn.metrics import accuracy_score\n",
        "from sklearn.metrics import precision_score\n",
        "from sklearn.metrics import recall_score\n",
        "score1 = accuracy_score(y_test,y_pred)\n",
        "score2 = precision_score(y_test,y_pred)\n",
        "score3 = recall_score(y_test,y_pred)\n",
        "print(\"---- Scores ----\")\n",
        "print(\"Accuracy score is: {}%\".format(round(score1*100,2)))\n",
        "print(\"Precision score is: {}\".format(round(score2,2)))\n",
        "print(\"Recall score is: {}\".format(round(score3,2)))"
      ]
    },
    {
      "cell_type": "markdown",
      "id": "0c7ab0e2",
      "metadata": {
        "papermill": {
          "duration": 0.018632,
          "end_time": "2022-07-09T09:13:22.353730",
          "exception": false,
          "start_time": "2022-07-09T09:13:22.335098",
          "status": "completed"
        },
        "tags": [],
        "id": "0c7ab0e2"
      },
      "source": [
        "**USING PIPE LINE AND VECTORIZATION SEPRETELY(METHOD 2)**"
      ]
    },
    {
      "cell_type": "code",
      "execution_count": 28,
      "id": "f950117a",
      "metadata": {
        "execution": {
          "iopub.execute_input": "2022-07-09T09:13:22.393592Z",
          "iopub.status.busy": "2022-07-09T09:13:22.393181Z",
          "iopub.status.idle": "2022-07-09T09:13:22.400412Z",
          "shell.execute_reply": "2022-07-09T09:13:22.399540Z"
        },
        "papermill": {
          "duration": 0.030552,
          "end_time": "2022-07-09T09:13:22.402707",
          "exception": false,
          "start_time": "2022-07-09T09:13:22.372155",
          "status": "completed"
        },
        "tags": [],
        "id": "f950117a"
      },
      "outputs": [],
      "source": [
        "from sklearn.pipeline import make_pipeline\n",
        "model2=make_pipeline(CountVectorizer(),SVC())"
      ]
    },
    {
      "cell_type": "code",
      "execution_count": 29,
      "id": "c6812314",
      "metadata": {
        "execution": {
          "iopub.execute_input": "2022-07-09T09:13:22.441344Z",
          "iopub.status.busy": "2022-07-09T09:13:22.440933Z",
          "iopub.status.idle": "2022-07-09T09:13:22.532425Z",
          "shell.execute_reply": "2022-07-09T09:13:22.531589Z"
        },
        "papermill": {
          "duration": 0.112572,
          "end_time": "2022-07-09T09:13:22.534351",
          "exception": false,
          "start_time": "2022-07-09T09:13:22.421779",
          "status": "completed"
        },
        "tags": [],
        "colab": {
          "base_uri": "https://localhost:8080/"
        },
        "id": "c6812314",
        "outputId": "d26e3722-4663-4976-c534-52ac0989a905"
      },
      "outputs": [
        {
          "output_type": "execute_result",
          "data": {
            "text/plain": [
              "Pipeline(steps=[('countvectorizer', CountVectorizer()), ('svc', SVC())])"
            ]
          },
          "metadata": {},
          "execution_count": 29
        }
      ],
      "source": [
        "model2.fit(x_train,y_train)"
      ]
    },
    {
      "cell_type": "code",
      "execution_count": 30,
      "id": "477174fd",
      "metadata": {
        "execution": {
          "iopub.execute_input": "2022-07-09T09:13:22.572922Z",
          "iopub.status.busy": "2022-07-09T09:13:22.571914Z",
          "iopub.status.idle": "2022-07-09T09:13:22.603443Z",
          "shell.execute_reply": "2022-07-09T09:13:22.602324Z"
        },
        "papermill": {
          "duration": 0.053571,
          "end_time": "2022-07-09T09:13:22.606153",
          "exception": false,
          "start_time": "2022-07-09T09:13:22.552582",
          "status": "completed"
        },
        "tags": [],
        "id": "477174fd"
      },
      "outputs": [],
      "source": [
        "y_pred=model2.predict(x_test)\n"
      ]
    },
    {
      "cell_type": "markdown",
      "id": "22fad0a2",
      "metadata": {
        "papermill": {
          "duration": 0.019088,
          "end_time": "2022-07-09T09:13:22.643795",
          "exception": false,
          "start_time": "2022-07-09T09:13:22.624707",
          "status": "completed"
        },
        "tags": [],
        "id": "22fad0a2"
      },
      "source": [
        "**Evaluate the PIPELINE (Model)**"
      ]
    },
    {
      "cell_type": "code",
      "execution_count": 31,
      "id": "08631b62",
      "metadata": {
        "execution": {
          "iopub.execute_input": "2022-07-09T09:13:22.682633Z",
          "iopub.status.busy": "2022-07-09T09:13:22.681742Z",
          "iopub.status.idle": "2022-07-09T09:13:22.688844Z",
          "shell.execute_reply": "2022-07-09T09:13:22.687700Z"
        },
        "papermill": {
          "duration": 0.028731,
          "end_time": "2022-07-09T09:13:22.691204",
          "exception": false,
          "start_time": "2022-07-09T09:13:22.662473",
          "status": "completed"
        },
        "tags": [],
        "colab": {
          "base_uri": "https://localhost:8080/"
        },
        "id": "08631b62",
        "outputId": "981daed3-3c9e-4836-a6d3-aa5ed00918cb"
      },
      "outputs": [
        {
          "output_type": "execute_result",
          "data": {
            "text/plain": [
              "0.776"
            ]
          },
          "metadata": {},
          "execution_count": 31
        }
      ],
      "source": [
        "accuracy_score(y_pred,y_test)"
      ]
    },
    {
      "cell_type": "code",
      "source": [
        "from sklearn.metrics import accuracy_score\n",
        "from sklearn.metrics import precision_score\n",
        "from sklearn.metrics import recall_score\n",
        "score1 = accuracy_score(y_test,y_pred)\n",
        "score2 = precision_score(y_test,y_pred)\n",
        "score3 = recall_score(y_test,y_pred)\n",
        "print(\"---- Scores ----\")\n",
        "print(\"Accuracy score is: {}%\".format(round(score1*100,2)))\n",
        "print(\"Precision score is: {}\".format(round(score2,2)))\n",
        "print(\"Recall score is: {}\".format(round(score3,2)))"
      ],
      "metadata": {
        "colab": {
          "base_uri": "https://localhost:8080/"
        },
        "id": "sApgmQwWU9vj",
        "outputId": "67fe4455-8de6-486e-e5a2-12d419d6d406"
      },
      "id": "sApgmQwWU9vj",
      "execution_count": 32,
      "outputs": [
        {
          "output_type": "stream",
          "name": "stdout",
          "text": [
            "---- Scores ----\n",
            "Accuracy score is: 77.6%\n",
            "Precision score is: 0.76\n",
            "Recall score is: 0.79\n"
          ]
        }
      ]
    },
    {
      "cell_type": "markdown",
      "id": "01ffd7dd",
      "metadata": {
        "papermill": {
          "duration": 0.019874,
          "end_time": "2022-07-09T09:13:23.112487",
          "exception": false,
          "start_time": "2022-07-09T09:13:23.092613",
          "status": "completed"
        },
        "tags": [],
        "id": "01ffd7dd"
      },
      "source": [
        "# NAIVE BAYES MODEL  "
      ]
    },
    {
      "cell_type": "markdown",
      "id": "5b3762c4",
      "metadata": {
        "papermill": {
          "duration": 0.020038,
          "end_time": "2022-07-09T09:13:46.077472",
          "exception": false,
          "start_time": "2022-07-09T09:13:46.057434",
          "status": "completed"
        },
        "tags": [],
        "id": "5b3762c4"
      },
      "source": [
        "**Training Model**"
      ]
    },
    {
      "cell_type": "code",
      "execution_count": 33,
      "id": "4b2adbac",
      "metadata": {
        "execution": {
          "iopub.execute_input": "2022-07-09T09:13:46.180445Z",
          "iopub.status.busy": "2022-07-09T09:13:46.180014Z",
          "iopub.status.idle": "2022-07-09T09:13:46.186761Z",
          "shell.execute_reply": "2022-07-09T09:13:46.185721Z"
        },
        "papermill": {
          "duration": 0.030975,
          "end_time": "2022-07-09T09:13:46.188825",
          "exception": false,
          "start_time": "2022-07-09T09:13:46.157850",
          "status": "completed"
        },
        "tags": [],
        "id": "4b2adbac",
        "outputId": "45d77ee5-a9bd-4a1b-a97d-792f717c4457",
        "colab": {
          "base_uri": "https://localhost:8080/"
        }
      },
      "outputs": [
        {
          "output_type": "execute_result",
          "data": {
            "text/plain": [
              "array([[0, 0, 0, ..., 0, 0, 0],\n",
              "       [0, 0, 0, ..., 0, 0, 0],\n",
              "       [0, 0, 0, ..., 0, 0, 0],\n",
              "       ...,\n",
              "       [0, 0, 0, ..., 0, 0, 0],\n",
              "       [0, 0, 0, ..., 0, 0, 0],\n",
              "       [0, 0, 0, ..., 0, 0, 0]])"
            ]
          },
          "metadata": {},
          "execution_count": 33
        }
      ],
      "source": [
        "x_train_vect.toarray()"
      ]
    },
    {
      "cell_type": "code",
      "execution_count": 34,
      "id": "2419cf40",
      "metadata": {
        "execution": {
          "iopub.execute_input": "2022-07-09T09:13:46.231416Z",
          "iopub.status.busy": "2022-07-09T09:13:46.231031Z",
          "iopub.status.idle": "2022-07-09T09:13:46.239090Z",
          "shell.execute_reply": "2022-07-09T09:13:46.237977Z"
        },
        "papermill": {
          "duration": 0.032006,
          "end_time": "2022-07-09T09:13:46.241365",
          "exception": false,
          "start_time": "2022-07-09T09:13:46.209359",
          "status": "completed"
        },
        "tags": [],
        "id": "2419cf40",
        "outputId": "1affe767-5585-4cce-a06a-ac01ffeabdba",
        "colab": {
          "base_uri": "https://localhost:8080/"
        }
      },
      "outputs": [
        {
          "output_type": "execute_result",
          "data": {
            "text/plain": [
              "array([1, 1, 0, 0, 0, 1, 1, 0, 0, 1, 1, 0, 0, 0, 1, 1, 0, 0, 1, 0, 1, 0,\n",
              "       1, 0, 1, 0, 1, 1, 0, 1, 0, 0, 0, 0, 0, 1, 1, 1, 0, 1, 1, 0, 1, 1,\n",
              "       1, 1, 0, 1, 1, 0, 1, 0, 1, 0, 1, 0, 0, 1, 0, 0, 0, 0, 1, 0, 1, 1,\n",
              "       0, 1, 1, 0, 0, 0, 0, 0, 1, 0, 0, 1, 1, 0, 0, 1, 1, 0, 0, 0, 1, 0,\n",
              "       1, 1, 1, 1, 1, 1, 1, 1, 1, 1, 1, 0, 1, 1, 1, 1, 0, 0, 1, 1, 0, 0,\n",
              "       1, 1, 0, 0, 1, 0, 1, 1, 1, 1, 1, 0, 1, 1, 1, 0, 1, 1, 1, 1, 0, 0,\n",
              "       0, 0, 1, 1, 0, 1, 1, 0, 1, 0, 0, 0, 0, 0, 0, 1, 1, 1, 0, 1, 1, 0,\n",
              "       1, 0, 1, 1, 0, 1, 1, 0, 1, 0, 0, 1, 0, 1, 0, 1, 0, 0, 0, 1, 0, 1,\n",
              "       0, 0, 0, 1, 1, 1, 0, 1, 1, 0, 1, 1, 1, 1, 1, 1, 0, 0, 0, 1, 1, 0,\n",
              "       1, 0, 1, 0, 1, 1, 0, 0, 0, 0, 0, 0, 0, 1, 1, 0, 1, 0, 0, 1, 1, 1,\n",
              "       0, 1, 1, 0, 0, 1, 1, 0, 1, 0, 0, 0, 0, 0, 1, 1, 1, 0, 1, 0, 0, 0,\n",
              "       1, 1, 1, 0, 0, 1, 1, 1, 0, 1, 0, 0, 1, 1, 0, 1, 0, 1, 1, 1, 0, 0,\n",
              "       0, 1, 1, 0, 1, 1, 0, 0, 1, 1, 1, 1, 0, 0, 0, 0, 0, 0, 1, 0, 0, 0,\n",
              "       1, 1, 1, 0, 0, 1, 0, 0, 0, 1, 0, 0, 0, 0, 0, 1, 0, 1, 1, 0, 1, 1,\n",
              "       0, 0, 1, 0, 0, 0, 1, 0, 0, 1, 0, 0, 0, 0, 0, 0, 0, 1, 0, 0, 0, 1,\n",
              "       1, 1, 1, 1, 1, 0, 0, 0, 0, 1, 0, 0, 1, 0, 1, 0, 1, 1, 1, 1, 0, 0,\n",
              "       1, 1, 0, 1, 1, 0, 1, 0, 0, 1, 0, 1, 1, 1, 0, 1, 0, 1, 0, 1, 0, 1,\n",
              "       0, 0, 0, 1, 0, 0, 0, 0, 0, 1, 0, 1, 0, 1, 1, 0, 1, 1, 0, 0, 1, 1,\n",
              "       0, 1, 1, 1, 0, 1, 0, 0, 0, 1, 0, 1, 1, 1, 0, 1, 0, 0, 0, 1, 1, 1,\n",
              "       0, 0, 0, 1, 0, 0, 0, 1, 1, 1, 1, 0, 0, 0, 1, 0, 1, 1, 1, 1, 0, 1,\n",
              "       0, 1, 0, 1, 1, 1, 0, 1, 0, 0, 0, 0, 0, 0, 1, 0, 1, 0, 0, 1, 0, 0,\n",
              "       1, 0, 0, 1, 1, 1, 0, 0, 1, 0, 0, 1, 0, 0, 0, 0, 1, 1, 1, 1, 0, 1,\n",
              "       1, 0, 0, 1, 1, 1, 0, 1, 0, 0, 0, 0, 1, 1, 1, 0, 1, 1, 0, 0, 0, 1,\n",
              "       1, 0, 0, 1, 1, 0, 0, 1, 1, 1, 1, 1, 0, 0, 0, 0, 0, 0, 0, 0, 1, 1,\n",
              "       1, 1, 1, 0, 0, 1, 1, 0, 1, 0, 1, 1, 0, 0, 0, 0, 1, 1, 1, 1, 0, 0,\n",
              "       1, 0, 0, 1, 1, 1, 1, 0, 1, 1, 0, 0, 0, 0, 1, 0, 0, 0, 1, 0, 1, 1,\n",
              "       1, 0, 0, 1, 0, 1, 1, 1, 0, 0, 1, 1, 0, 1, 1, 1, 1, 0, 1, 1, 1, 1,\n",
              "       1, 0, 0, 0, 1, 0, 0, 1, 0, 0, 0, 1, 1, 0, 0, 1, 1, 1, 0, 1, 0, 0,\n",
              "       0, 1, 1, 0, 1, 1, 1, 1, 0, 1, 0, 1, 1, 0, 1, 1, 0, 1, 1, 0, 0, 1,\n",
              "       0, 0, 1, 0, 0, 1, 1, 0, 0, 0, 1, 0, 0, 1, 0, 0, 1, 1, 1, 1, 1, 1,\n",
              "       0, 1, 1, 1, 1, 0, 1, 1, 1, 1, 0, 1, 1, 1, 0, 1, 0, 1, 1, 0, 1, 0,\n",
              "       1, 0, 1, 1, 1, 1, 0, 1, 1, 1, 0, 0, 0, 1, 1, 1, 0, 1, 0, 0, 0, 1,\n",
              "       0, 1, 0, 0, 0, 0, 1, 0, 0, 0, 1, 1, 0, 0, 0, 1, 1, 0, 1, 0, 0, 0,\n",
              "       0, 0, 0, 1, 1, 1, 1, 0, 0, 0, 0, 0, 1, 0, 1, 0, 0, 1, 1, 0, 1, 1,\n",
              "       1, 1])"
            ]
          },
          "metadata": {},
          "execution_count": 34
        }
      ],
      "source": [
        "y_train"
      ]
    },
    {
      "cell_type": "code",
      "execution_count": 35,
      "id": "d217dce5",
      "metadata": {
        "execution": {
          "iopub.execute_input": "2022-07-09T09:13:46.284839Z",
          "iopub.status.busy": "2022-07-09T09:13:46.284407Z",
          "iopub.status.idle": "2022-07-09T09:13:46.292253Z",
          "shell.execute_reply": "2022-07-09T09:13:46.291097Z"
        },
        "papermill": {
          "duration": 0.032062,
          "end_time": "2022-07-09T09:13:46.294585",
          "exception": false,
          "start_time": "2022-07-09T09:13:46.262523",
          "status": "completed"
        },
        "tags": [],
        "id": "d217dce5",
        "outputId": "65a825c2-68e6-4772-a35d-1cfcc6398dd7",
        "colab": {
          "base_uri": "https://localhost:8080/"
        }
      },
      "outputs": [
        {
          "output_type": "execute_result",
          "data": {
            "text/plain": [
              "array([[0, 0, 0, ..., 0, 0, 0],\n",
              "       [0, 0, 0, ..., 0, 0, 0],\n",
              "       [0, 0, 0, ..., 0, 0, 0],\n",
              "       ...,\n",
              "       [0, 0, 0, ..., 0, 0, 0],\n",
              "       [0, 0, 0, ..., 0, 0, 0],\n",
              "       [0, 0, 0, ..., 0, 0, 0]])"
            ]
          },
          "metadata": {},
          "execution_count": 35
        }
      ],
      "source": [
        "x_test_vect.toarray()"
      ]
    },
    {
      "cell_type": "code",
      "execution_count": 36,
      "id": "b1b6719f",
      "metadata": {
        "execution": {
          "iopub.execute_input": "2022-07-09T09:13:46.339651Z",
          "iopub.status.busy": "2022-07-09T09:13:46.339236Z",
          "iopub.status.idle": "2022-07-09T09:13:46.346179Z",
          "shell.execute_reply": "2022-07-09T09:13:46.345053Z"
        },
        "papermill": {
          "duration": 0.032498,
          "end_time": "2022-07-09T09:13:46.348482",
          "exception": false,
          "start_time": "2022-07-09T09:13:46.315984",
          "status": "completed"
        },
        "tags": [],
        "id": "b1b6719f",
        "outputId": "3e6da2d4-b01a-4f25-e550-eae166bd2353",
        "colab": {
          "base_uri": "https://localhost:8080/"
        }
      },
      "outputs": [
        {
          "output_type": "execute_result",
          "data": {
            "text/plain": [
              "array([0, 0, 0, 1, 0, 1, 1, 0, 1, 0, 1, 0, 1, 0, 1, 1, 0, 0, 1, 0, 0, 1,\n",
              "       1, 1, 0, 0, 1, 0, 1, 0, 1, 1, 1, 0, 0, 0, 1, 1, 1, 1, 1, 0, 0, 1,\n",
              "       0, 0, 0, 1, 0, 1, 1, 0, 1, 0, 1, 1, 0, 1, 1, 1, 0, 1, 1, 1, 1, 1,\n",
              "       1, 1, 0, 0, 1, 0, 1, 0, 0, 0, 1, 1, 0, 0, 1, 0, 0, 0, 1, 1, 1, 0,\n",
              "       1, 0, 1, 0, 0, 0, 1, 0, 0, 0, 0, 0, 0, 1, 1, 0, 0, 1, 1, 0, 0, 0,\n",
              "       1, 1, 1, 1, 0, 1, 0, 0, 1, 0, 1, 0, 1, 1, 1, 0, 1, 1, 1, 1, 1, 1,\n",
              "       0, 0, 1, 0, 1, 1, 0, 1, 1, 1, 1, 1, 0, 1, 1, 1, 0, 1, 0, 0, 0, 0,\n",
              "       0, 0, 0, 0, 0, 1, 1, 0, 1, 0, 0, 0, 1, 0, 1, 0, 0, 1, 0, 1, 0, 1,\n",
              "       1, 0, 1, 1, 1, 0, 0, 0, 0, 0, 1, 1, 0, 0, 1, 1, 1, 0, 1, 1, 0, 1,\n",
              "       0, 0, 1, 1, 1, 0, 1, 1, 1, 1, 1, 1, 0, 1, 0, 0, 0, 0, 0, 0, 0, 1,\n",
              "       1, 1, 0, 0, 0, 0, 0, 0, 0, 1, 0, 0, 0, 0, 1, 1, 0, 1, 0, 0, 0, 0,\n",
              "       1, 0, 0, 0, 0, 0, 0, 1])"
            ]
          },
          "metadata": {},
          "execution_count": 36
        }
      ],
      "source": [
        "y_test"
      ]
    },
    {
      "cell_type": "markdown",
      "id": "e8314788",
      "metadata": {
        "papermill": {
          "duration": 0.021136,
          "end_time": "2022-07-09T09:13:46.391236",
          "exception": false,
          "start_time": "2022-07-09T09:13:46.370100",
          "status": "completed"
        },
        "tags": [],
        "id": "e8314788"
      },
      "source": [
        "**MultinomialNB()**"
      ]
    },
    {
      "cell_type": "code",
      "execution_count": 37,
      "id": "1a5607fe",
      "metadata": {
        "execution": {
          "iopub.execute_input": "2022-07-09T09:13:46.437011Z",
          "iopub.status.busy": "2022-07-09T09:13:46.436614Z",
          "iopub.status.idle": "2022-07-09T09:13:46.456512Z",
          "shell.execute_reply": "2022-07-09T09:13:46.455410Z"
        },
        "papermill": {
          "duration": 0.04497,
          "end_time": "2022-07-09T09:13:46.458574",
          "exception": false,
          "start_time": "2022-07-09T09:13:46.413604",
          "status": "completed"
        },
        "tags": [],
        "id": "1a5607fe",
        "outputId": "5d47cf48-4e44-4d77-a978-65b797042a55",
        "colab": {
          "base_uri": "https://localhost:8080/"
        }
      },
      "outputs": [
        {
          "output_type": "execute_result",
          "data": {
            "text/plain": [
              "MultinomialNB()"
            ]
          },
          "metadata": {},
          "execution_count": 37
        }
      ],
      "source": [
        "from sklearn.naive_bayes import MultinomialNB\n",
        "model3 = MultinomialNB()\n",
        "model3.fit(x_train_vect, y_train)"
      ]
    },
    {
      "cell_type": "code",
      "execution_count": 38,
      "id": "d9d754ed",
      "metadata": {
        "execution": {
          "iopub.execute_input": "2022-07-09T09:13:46.502969Z",
          "iopub.status.busy": "2022-07-09T09:13:46.501926Z",
          "iopub.status.idle": "2022-07-09T09:13:46.522342Z",
          "shell.execute_reply": "2022-07-09T09:13:46.520949Z"
        },
        "papermill": {
          "duration": 0.046593,
          "end_time": "2022-07-09T09:13:46.526106",
          "exception": false,
          "start_time": "2022-07-09T09:13:46.479513",
          "status": "completed"
        },
        "tags": [],
        "id": "d9d754ed"
      },
      "outputs": [],
      "source": [
        "# Predicting the Test set results\n",
        "y_pred = model3.predict(x_test_vect)"
      ]
    },
    {
      "cell_type": "code",
      "execution_count": 39,
      "id": "90f7b31f",
      "metadata": {
        "execution": {
          "iopub.execute_input": "2022-07-09T09:13:46.616834Z",
          "iopub.status.busy": "2022-07-09T09:13:46.616210Z",
          "iopub.status.idle": "2022-07-09T09:13:46.626358Z",
          "shell.execute_reply": "2022-07-09T09:13:46.625163Z"
        },
        "papermill": {
          "duration": 0.060165,
          "end_time": "2022-07-09T09:13:46.629663",
          "exception": false,
          "start_time": "2022-07-09T09:13:46.569498",
          "status": "completed"
        },
        "tags": [],
        "id": "90f7b31f",
        "outputId": "e3c38bf8-5224-4063-9ccd-046b6ec95295",
        "colab": {
          "base_uri": "https://localhost:8080/"
        }
      },
      "outputs": [
        {
          "output_type": "execute_result",
          "data": {
            "text/plain": [
              "0.752"
            ]
          },
          "metadata": {},
          "execution_count": 39
        }
      ],
      "source": [
        "# Accuracy,\n",
        "from sklearn.metrics import accuracy_score\n",
        "accuracy_score(y_pred,y_test)"
      ]
    },
    {
      "cell_type": "code",
      "execution_count": 40,
      "id": "c1b8b2b5",
      "metadata": {
        "execution": {
          "iopub.execute_input": "2022-07-09T09:13:46.674457Z",
          "iopub.status.busy": "2022-07-09T09:13:46.674072Z",
          "iopub.status.idle": "2022-07-09T09:13:46.685315Z",
          "shell.execute_reply": "2022-07-09T09:13:46.683933Z"
        },
        "papermill": {
          "duration": 0.036725,
          "end_time": "2022-07-09T09:13:46.688555",
          "exception": false,
          "start_time": "2022-07-09T09:13:46.651830",
          "status": "completed"
        },
        "tags": [],
        "id": "c1b8b2b5",
        "outputId": "57619723-574a-4edd-879b-5d8493d62baf",
        "colab": {
          "base_uri": "https://localhost:8080/"
        }
      },
      "outputs": [
        {
          "output_type": "stream",
          "name": "stdout",
          "text": [
            "---- Scores ----\n",
            "Accuracy score is: 75.2%\n",
            "Precision score is: 0.71\n",
            "Recall score is: 0.83\n"
          ]
        }
      ],
      "source": [
        "# Accuracy, Precision and Recall\n",
        "from sklearn.metrics import accuracy_score\n",
        "from sklearn.metrics import precision_score\n",
        "from sklearn.metrics import recall_score\n",
        "score1 = accuracy_score(y_test,y_pred)\n",
        "score2 = precision_score(y_test,y_pred)\n",
        "score3 = recall_score(y_test,y_pred)\n",
        "print(\"---- Scores ----\")\n",
        "print(\"Accuracy score is: {}%\".format(round(score1*100,2)))\n",
        "print(\"Precision score is: {}\".format(round(score2,2)))\n",
        "print(\"Recall score is: {}\".format(round(score3,2)))\n"
      ]
    },
    {
      "cell_type": "markdown",
      "source": [
        "**pipeline multinomialNB**"
      ],
      "metadata": {
        "id": "cYvyQNnc3Zsh"
      },
      "id": "cYvyQNnc3Zsh"
    },
    {
      "cell_type": "code",
      "source": [
        "model4=make_pipeline(CountVectorizer(),MultinomialNB())"
      ],
      "metadata": {
        "id": "Ryl1SMki3XYr"
      },
      "id": "Ryl1SMki3XYr",
      "execution_count": 41,
      "outputs": []
    },
    {
      "cell_type": "code",
      "source": [
        "model4.fit(x_train,y_train)"
      ],
      "metadata": {
        "colab": {
          "base_uri": "https://localhost:8080/"
        },
        "id": "Ki4RDfrR3sVk",
        "outputId": "8e79bbc8-1820-443d-a78b-d363f9b395e0"
      },
      "id": "Ki4RDfrR3sVk",
      "execution_count": 42,
      "outputs": [
        {
          "output_type": "execute_result",
          "data": {
            "text/plain": [
              "Pipeline(steps=[('countvectorizer', CountVectorizer()),\n",
              "                ('multinomialnb', MultinomialNB())])"
            ]
          },
          "metadata": {},
          "execution_count": 42
        }
      ]
    },
    {
      "cell_type": "code",
      "source": [
        "y_pred=model4.predict(x_test)"
      ],
      "metadata": {
        "id": "_UHjjjMp3sSK"
      },
      "id": "_UHjjjMp3sSK",
      "execution_count": 43,
      "outputs": []
    },
    {
      "cell_type": "code",
      "source": [
        "accuracy_score(y_pred,y_test)"
      ],
      "metadata": {
        "colab": {
          "base_uri": "https://localhost:8080/"
        },
        "id": "Kqm8D99N3sMs",
        "outputId": "7b5d6beb-a9c6-4cd9-fe50-6d85351dfe9a"
      },
      "id": "Kqm8D99N3sMs",
      "execution_count": 44,
      "outputs": [
        {
          "output_type": "execute_result",
          "data": {
            "text/plain": [
              "0.768"
            ]
          },
          "metadata": {},
          "execution_count": 44
        }
      ]
    },
    {
      "cell_type": "code",
      "source": [
        "# Accuracy, Precision and Recall\n",
        "from sklearn.metrics import accuracy_score\n",
        "from sklearn.metrics import precision_score\n",
        "from sklearn.metrics import recall_score\n",
        "score1 = accuracy_score(y_test,y_pred)\n",
        "score2 = precision_score(y_test,y_pred)\n",
        "score3 = recall_score(y_test,y_pred)\n",
        "print(\"---- Scores ----\")\n",
        "print(\"Accuracy score is: {}%\".format(round(score1*100,2)))\n",
        "print(\"Precision score is: {}\".format(round(score2,2)))\n",
        "print(\"Recall score is: {}\".format(round(score3,2)))\n"
      ],
      "metadata": {
        "colab": {
          "base_uri": "https://localhost:8080/"
        },
        "id": "tTiAHlLx39f7",
        "outputId": "87d56de2-7a0c-4ebe-e867-ec287a84fdad"
      },
      "id": "tTiAHlLx39f7",
      "execution_count": 45,
      "outputs": [
        {
          "output_type": "stream",
          "name": "stdout",
          "text": [
            "---- Scores ----\n",
            "Accuracy score is: 76.8%\n",
            "Precision score is: 0.74\n",
            "Recall score is: 0.79\n"
          ]
        }
      ]
    },
    {
      "cell_type": "markdown",
      "id": "6fe4e168",
      "metadata": {
        "papermill": {
          "duration": null,
          "end_time": null,
          "exception": null,
          "start_time": null,
          "status": "pending"
        },
        "tags": [],
        "id": "6fe4e168"
      },
      "source": [
        "# Using joblib to save the model"
      ]
    },
    {
      "cell_type": "markdown",
      "metadata": {
        "papermill": {
          "duration": 0.017904,
          "end_time": "2022-07-09T09:13:22.727685",
          "exception": false,
          "start_time": "2022-07-09T09:13:22.709781",
          "status": "completed"
        },
        "tags": [],
        "id": "6ea013f9"
      },
      "source": [
        "**ML ALGORITHM FOR PREDICTING THE FINAL SENTIIMENT**"
      ],
      "id": "6ea013f9"
    },
    {
      "cell_type": "markdown",
      "source": [
        "From above accuracy scores it is visible that SVC model with countVectorization pipeline is most effective with 0.776"
      ],
      "metadata": {
        "id": "SHWnzUva6a9k"
      },
      "id": "SHWnzUva6a9k"
    },
    {
      "cell_type": "code",
      "execution_count": 2,
      "id": "65c54b79",
      "metadata": {
        "execution": {
          "iopub.execute_input": "2022-07-09T09:13:22.765889Z",
          "iopub.status.busy": "2022-07-09T09:13:22.765529Z",
          "iopub.status.idle": "2022-07-09T09:13:22.788520Z",
          "shell.execute_reply": "2022-07-09T09:13:22.787406Z"
        },
        "papermill": {
          "duration": 0.0449,
          "end_time": "2022-07-09T09:13:22.790704",
          "exception": false,
          "start_time": "2022-07-09T09:13:22.745804",
          "status": "completed"
        },
        "tags": [],
        "id": "65c54b79"
      },
      "outputs": [],
      "source": [
        "import joblib\n"
      ]
    },
    {
      "cell_type": "code",
      "source": [
        "filename = 'reviews_classifier.sav'\n",
        "joblib.dump(model2, open(filename, 'wb'))\n",
        "loaded_model = joblib.load(open('reviews_classifier.sav', 'rb'))"
      ],
      "metadata": {
        "id": "RIUdeEJc8UqZ"
      },
      "id": "RIUdeEJc8UqZ",
      "execution_count": 64,
      "outputs": []
    },
    {
      "cell_type": "code",
      "execution_count": 73,
      "id": "7c4c8afd",
      "metadata": {
        "execution": {
          "iopub.execute_input": "2022-07-09T09:13:22.868157Z",
          "iopub.status.busy": "2022-07-09T09:13:22.866978Z",
          "iopub.status.idle": "2022-07-09T09:13:22.874724Z",
          "shell.execute_reply": "2022-07-09T09:13:22.873743Z"
        },
        "papermill": {
          "duration": 0.030364,
          "end_time": "2022-07-09T09:13:22.876910",
          "exception": false,
          "start_time": "2022-07-09T09:13:22.846546",
          "status": "completed"
        },
        "tags": [],
        "id": "7c4c8afd",
        "outputId": "6e14bfeb-4c7e-4f11-e73d-9c3d7ca1e82e",
        "colab": {
          "base_uri": "https://localhost:8080/"
        }
      },
      "outputs": [
        {
          "output_type": "execute_result",
          "data": {
            "text/plain": [
              "array([1])"
            ]
          },
          "metadata": {},
          "execution_count": 73
        }
      ],
      "source": [
        "loaded_model.predict(['hello!!Love Your Food'])\n",
        "\n"
      ]
    },
    {
      "cell_type": "code",
      "execution_count": 67,
      "id": "2d4071da",
      "metadata": {
        "execution": {
          "iopub.execute_input": "2022-07-09T09:13:22.916373Z",
          "iopub.status.busy": "2022-07-09T09:13:22.915703Z",
          "iopub.status.idle": "2022-07-09T09:13:22.923004Z",
          "shell.execute_reply": "2022-07-09T09:13:22.922182Z"
        },
        "papermill": {
          "duration": 0.029462,
          "end_time": "2022-07-09T09:13:22.925003",
          "exception": false,
          "start_time": "2022-07-09T09:13:22.895541",
          "status": "completed"
        },
        "tags": [],
        "id": "2d4071da",
        "outputId": "17c1c623-7030-4fdd-e169-9f4afcbb18ff",
        "colab": {
          "base_uri": "https://localhost:8080/"
        }
      },
      "outputs": [
        {
          "output_type": "execute_result",
          "data": {
            "text/plain": [
              "array([0])"
            ]
          },
          "metadata": {},
          "execution_count": 67
        }
      ],
      "source": [
        "loaded_model.predict([\"not bad.\"])"
      ]
    },
    {
      "cell_type": "code",
      "execution_count": 68,
      "id": "ed837f57",
      "metadata": {
        "execution": {
          "iopub.execute_input": "2022-07-09T09:13:22.968419Z",
          "iopub.status.busy": "2022-07-09T09:13:22.967430Z",
          "iopub.status.idle": "2022-07-09T09:13:22.974753Z",
          "shell.execute_reply": "2022-07-09T09:13:22.973867Z"
        },
        "papermill": {
          "duration": 0.030756,
          "end_time": "2022-07-09T09:13:22.977050",
          "exception": false,
          "start_time": "2022-07-09T09:13:22.946294",
          "status": "completed"
        },
        "tags": [],
        "id": "ed837f57",
        "outputId": "730a30c4-7920-4982-8b2d-980b399b7f1c",
        "colab": {
          "base_uri": "https://localhost:8080/"
        }
      },
      "outputs": [
        {
          "output_type": "execute_result",
          "data": {
            "text/plain": [
              "array([0])"
            ]
          },
          "metadata": {},
          "execution_count": 68
        }
      ],
      "source": [
        "loaded_model.predict([\"omg!!it was too spice and i asked you don't add too much \"])"
      ]
    },
    {
      "cell_type": "code",
      "execution_count": 69,
      "id": "74c72dcd",
      "metadata": {
        "execution": {
          "iopub.execute_input": "2022-07-09T09:13:23.016852Z",
          "iopub.status.busy": "2022-07-09T09:13:23.016196Z",
          "iopub.status.idle": "2022-07-09T09:13:23.022674Z",
          "shell.execute_reply": "2022-07-09T09:13:23.021880Z"
        },
        "papermill": {
          "duration": 0.028726,
          "end_time": "2022-07-09T09:13:23.024605",
          "exception": false,
          "start_time": "2022-07-09T09:13:22.995879",
          "status": "completed"
        },
        "tags": [],
        "id": "74c72dcd",
        "outputId": "30bcac56-7830-472b-b0b9-f8f6f126fa3a",
        "colab": {
          "base_uri": "https://localhost:8080/"
        }
      },
      "outputs": [
        {
          "output_type": "execute_result",
          "data": {
            "text/plain": [
              "array([0])"
            ]
          },
          "metadata": {},
          "execution_count": 69
        }
      ],
      "source": [
        "loaded_model.predict([\"Crust is not good.\"])\n"
      ]
    },
    {
      "cell_type": "code",
      "execution_count": 70,
      "id": "29c2a86b",
      "metadata": {
        "execution": {
          "iopub.execute_input": "2022-07-09T09:13:23.064807Z",
          "iopub.status.busy": "2022-07-09T09:13:23.064169Z",
          "iopub.status.idle": "2022-07-09T09:13:23.070868Z",
          "shell.execute_reply": "2022-07-09T09:13:23.070086Z"
        },
        "papermill": {
          "duration": 0.029557,
          "end_time": "2022-07-09T09:13:23.073177",
          "exception": false,
          "start_time": "2022-07-09T09:13:23.043620",
          "status": "completed"
        },
        "tags": [],
        "id": "29c2a86b",
        "outputId": "013c0bef-d701-4af1-aeab-4f8f6aee95db",
        "colab": {
          "base_uri": "https://localhost:8080/"
        }
      },
      "outputs": [
        {
          "output_type": "execute_result",
          "data": {
            "text/plain": [
              "array([1])"
            ]
          },
          "metadata": {},
          "execution_count": 70
        }
      ],
      "source": [
        "loaded_model.predict([\"Appetite instantly gone.\"])"
      ]
    },
    {
      "cell_type": "markdown",
      "source": [
        "# Streamlit"
      ],
      "metadata": {
        "id": "KPY7WJNkDZfH"
      },
      "id": "KPY7WJNkDZfH"
    },
    {
      "cell_type": "code",
      "source": [
        "import streamlit as st\n",
        "import numpy as np\n",
        "import joblib\n",
        "# loading the saved model\n",
        "loaded_model = joblib.load(open('C:/Users/ASUS/OneDrive/Desktop/Major/reviews_classifier.sav', 'rb'))\n",
        "\n",
        "\n",
        "# creating a function for Prediction\n",
        "\n",
        "def Review_Analysis(input_data):\n",
        "\n",
        "    input_data=[input_data]\n",
        "    prediction = loaded_model.predict(input_data)\n",
        "\n",
        "    if (prediction[0] == 0):\n",
        "        st.error('NEGATIVE')\n",
        "    else:\n",
        "        st.success('POSITIVE')\n",
        "\n",
        "def main():\n",
        "    # giving a title\n",
        "    st.title('Restaurant Review Analysis Web App')\n",
        "\n",
        "    # getting the input data from the user\n",
        "\n",
        "    Review = st.text_input('Enter Your Review')\n",
        "\n",
        "    # creating a button for Prediction\n",
        "\n",
        "    if st.button('Review Result'):\n",
        "        Review_Analysis(Review)\n",
        "      \n",
        "if __name__ == '__main__':\n",
        "    main()\n"
      ],
      "metadata": {
        "id": "Ri8tRwqWDkAW"
      },
      "id": "Ri8tRwqWDkAW",
      "execution_count": null,
      "outputs": []
    },
    {
      "cell_type": "markdown",
      "source": [
        "**Sentiment Analysis**\n",
        "\n",
        "Sentiment analysis is a technique through which you can analyze a piece of text to determine the sentiment behind it. It combines machine learning and natural language processing (NLP) to achieve this.\n",
        "\n",
        "Using basic Sentiment analysis, a program can understand whether the sentiment behind a piece of text is positive, negative, or neutral.\n",
        "\n",
        "It is a powerful technique in Artificial intelligence that has important business applications.\n",
        "\n",
        "For example, you can use sentiment analysis to analyze customer feedback. After collecting that feedback through various mediums like Twitter and Facebook, you can run sentiment analysis algorithms on those text snippets to understand your customers' attitude towards your product.\n",
        "\n",
        "The use cases of Sentiment Analysis can be-\n",
        "Analyzing Customer Feedback\n",
        "Campaign Monitoring\n",
        "Brand Monitoring\n",
        "Stock Market Analysis\n",
        "Compliance Monitoring\n",
        "\n",
        "Sentiment analysis is a powerful tool that you can use to solve problems from brand influence to market monitoring. New tools are built around sentiment analysis to help businesses become more efficient."
      ],
      "metadata": {
        "id": "KgbAqaj9wrWT"
      },
      "id": "KgbAqaj9wrWT"
    },
    {
      "cell_type": "markdown",
      "source": [
        "**Twitter Sentiments**\n",
        "\n",
        "Twitter is one of the platforms widely used by people to express their opinions and showcase sentiments on various occasions. Sentiment analysis is an approach to analyze data and retrieve sentiment that it embodies\n",
        "\n",
        "Sentiment Analysis Dataset Twitter has a number of applications:\n",
        "\n",
        "Business: Companies use Twitter Sentiment Analysis to develop their business strategies, to assess customers’ feelings towards products or brand, how people respond to their campaigns or product launches and also why consumers are not buying certain products.\n",
        "\n",
        "Politics: In politics Sentiment Analysis Dataset Twitter is used to keep track of political views, to detect consistency and inconsistency between statements and actions at the government level. Sentiment Analysis Dataset Twitter is also used for analyzing election results.\n",
        "\n",
        "Public Actions: Twitter Sentiment Analysis also is used for monitoring and analyzing social phenomena, for predicting potentially dangerous situations and determining the general mood of the blogosphere.\n",
        "\n",
        "\n"
      ],
      "metadata": {
        "id": "MUZuIkG1w1rd"
      },
      "id": "MUZuIkG1w1rd"
    }
  ],
  "metadata": {
    "kernelspec": {
      "display_name": "Python 3",
      "language": "python",
      "name": "python3"
    },
    "language_info": {
      "codemirror_mode": {
        "name": "ipython",
        "version": 3
      },
      "file_extension": ".py",
      "mimetype": "text/x-python",
      "name": "python",
      "nbconvert_exporter": "python",
      "pygments_lexer": "ipython3",
      "version": "3.7.12"
    },
    "papermill": {
      "default_parameters": {},
      "duration": 39.808598,
      "end_time": "2022-07-09T09:13:48.914790",
      "environment_variables": {},
      "exception": true,
      "input_path": "__notebook__.ipynb",
      "output_path": "__notebook__.ipynb",
      "parameters": {},
      "start_time": "2022-07-09T09:13:09.106192",
      "version": "2.3.4"
    },
    "colab": {
      "name": "restaurant-review-analysis.ipynb",
      "provenance": []
    }
  },
  "nbformat": 4,
  "nbformat_minor": 5
}